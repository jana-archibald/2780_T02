{
 "cells": [
  {
   "cell_type": "markdown",
   "id": "1ee9e229",
   "metadata": {
    "editable": false
   },
   "source": [
    "# Tutorial 2: Inference for Categorical Variables"
   ]
  },
  {
   "cell_type": "markdown",
   "id": "a64ea75c",
   "metadata": {
    "editable": false
   },
   "source": [
    "## Objectives: ##\n",
    "\n",
    "To become familiar with inference for categorical variables."
   ]
  },
  {
   "cell_type": "markdown",
   "id": "0bce2f9e",
   "metadata": {
    "editable": false
   },
   "source": [
    "## Instructions: ##\n",
    "\n",
    "* Do NOT round any of the values unless your are explicitly told to do so in the question.\n",
    "* You  compute the required values using R as your calculator."
   ]
  },
  {
   "cell_type": "markdown",
   "id": "a4eea931",
   "metadata": {
    "editable": false
   },
   "source": [
    "## Formulae: ##\n",
    "\n",
    "### Sampling distribution of $\\hat{p_1}-\\hat{p_2}$\n",
    "\n",
    "### The standard error $SE=\\sqrt{\\frac{p_1(1-p_1)}{n_1}+\\frac{p_2(1-p_2)}{n_2}}$\n",
    "\n",
    "\n",
    "### Chi-Square\n",
    "\n",
    "$$\\chi^2=\\frac{(O_1-E_1)^2}{E_1}+\\frac{(O_2-E_2)^2}{E_2}+ \\ldots +\\frac{(O_k-E_k)^2}{E_k} $$\n",
    "\n",
    "### Chi-Square in R\n",
    "\n",
    "`pchisq( computed chi-square value, degrees of freedom)`\n",
    "\n",
    "- Computes the left hand tail."
   ]
  },
  {
   "cell_type": "markdown",
   "id": "e2b66ee9",
   "metadata": {
    "editable": false
   },
   "source": [
    "## Data Information: ##\n",
    "\n",
    "Local reactions in persons 18-55 Pfizer-BioNTech vs Placebo (subset of table data)\n",
    "\n",
    ". | Pfizer | Placebo\n",
    "------ | ------ | -----\n",
    "Redness   | 104  |  26\n",
    "No Redness | 2187 | 2272\n",
    "Totals | 2291 | 2298\n",
    "\n",
    "Source : https://www.cdc.gov/vaccines/covid-19/info-by-product/pfizer/reactogenicity.html#18-local-reactions"
   ]
  },
  {
   "cell_type": "markdown",
   "id": "900b0489",
   "metadata": {
    "editable": false
   },
   "source": [
    "### Question 1:\n",
    "\n",
    "You are to complete a hypothesis test to determine if redness is more common with the Pfizer vaccine than with the placebo.\n",
    "\n",
    "### Prepare\n",
    "\n",
    "The hypothesis we are testing are:\n",
    "\n",
    "$H_0: p_{pfizer}=p_{placebo}$ the frequency of the redness local reaction is the same for pfizer and the placebo.\n",
    "\n",
    "$H_0: p_{pfizer}>p_{placebo}$ the frequency of the redness local reaction is higher for pfizer than the placebo.\n",
    "\n",
    "(We will use $\\alpha=0.05$)\n",
    "\n",
    "### Check\n",
    "\n",
    "#### a. Do we have a large enough sample to ensure that the sampling distribution will be approximately normal? How do you know?\n"
   ]
  },
  {
   "cell_type": "code",
   "execution_count": null,
   "id": "37e597cd",
   "metadata": {},
   "outputs": [],
   "source": [
    "Calculations for 1a"
   ]
  },
  {
   "cell_type": "markdown",
   "id": "36a9bb25",
   "metadata": {},
   "source": [
    "1.a Type your answer here."
   ]
  },
  {
   "cell_type": "markdown",
   "id": "5c0f15da",
   "metadata": {
    "editable": false
   },
   "source": [
    "### Calculate\n",
    "\n",
    "#### b. Calculate the pooled sample proportion."
   ]
  },
  {
   "cell_type": "code",
   "execution_count": null,
   "id": "7ebc48e4",
   "metadata": {},
   "outputs": [],
   "source": [
    "calculate the pooled sample proportion here."
   ]
  },
  {
   "cell_type": "markdown",
   "id": "ad41091c",
   "metadata": {
    "editable": false
   },
   "source": [
    "#### c. Calculate the standard error"
   ]
  },
  {
   "cell_type": "code",
   "execution_count": null,
   "id": "cd5c13cf",
   "metadata": {},
   "outputs": [],
   "source": [
    "calculate the standard error"
   ]
  },
  {
   "cell_type": "markdown",
   "id": "602f4e11",
   "metadata": {
    "editable": false
   },
   "source": [
    "#### d. Calculate the z score"
   ]
  },
  {
   "cell_type": "code",
   "execution_count": null,
   "id": "b91da869",
   "metadata": {},
   "outputs": [],
   "source": [
    "calculate the z score here"
   ]
  },
  {
   "cell_type": "markdown",
   "id": "dcd03c01",
   "metadata": {
    "editable": false
   },
   "source": [
    "#### e. Calculate the p-value"
   ]
  },
  {
   "cell_type": "code",
   "execution_count": null,
   "id": "537d5a69",
   "metadata": {},
   "outputs": [],
   "source": [
    "calculate the p-value here"
   ]
  },
  {
   "cell_type": "markdown",
   "id": "a4dd1659",
   "metadata": {
    "editable": false
   },
   "source": [
    "### Conclude\n",
    "\n",
    "f. What is your conclusion? Your answer should include the p-value, $\\alpha$ and refer to this particular situation."
   ]
  },
  {
   "cell_type": "markdown",
   "id": "0af5ea57",
   "metadata": {},
   "source": [
    "Type your conclusion here"
   ]
  },
  {
   "cell_type": "markdown",
   "id": "73bcaf7c",
   "metadata": {
    "editable": false
   },
   "source": [
    "### Question 2: ###\n",
    "\n",
    "The distribution of berries in a farm  is supposed to follow the distribution below:\n",
    "\n",
    "Small | Medium | Large | Giant\n",
    "--- | --- |  --- | ---  \n",
    "0.2 |0.3 |0.4 |0.1\n",
    "\n",
    "We will be taking a random sample of 200 berries to test for goodness of fit using chi-square.\n",
    "\n",
    "The hypothesis we are testing are:\n",
    "\n",
    "$H_0$ The distribution of the berries is equal to the one given above.\n",
    "\n",
    "$H_a$ The distribution of the berries is different from the one given above.\n",
    "\n",
    "#### A. How many small berries do we expect to see in our sample?"
   ]
  },
  {
   "cell_type": "code",
   "execution_count": null,
   "id": "147b0d49",
   "metadata": {},
   "outputs": [],
   "source": [
    "compute expected number of small berries"
   ]
  },
  {
   "cell_type": "markdown",
   "id": "fe00cd22",
   "metadata": {
    "editable": false
   },
   "source": [
    "####  How many medium berries do we expect to see in our sample?"
   ]
  },
  {
   "cell_type": "code",
   "execution_count": null,
   "id": "5c9e9687",
   "metadata": {},
   "outputs": [],
   "source": [
    "compute expected number of medium berries"
   ]
  },
  {
   "cell_type": "markdown",
   "id": "2efea94b",
   "metadata": {
    "editable": false
   },
   "source": [
    " #### How many large berries do we expect to see in our sample?"
   ]
  },
  {
   "cell_type": "code",
   "execution_count": null,
   "id": "6b6591f6",
   "metadata": {},
   "outputs": [],
   "source": [
    "compute expected number of large berries"
   ]
  },
  {
   "cell_type": "markdown",
   "id": "a6e5ef2f",
   "metadata": {
    "editable": false
   },
   "source": [
    "####  How many giant berries do we expect to see in our sample?"
   ]
  },
  {
   "cell_type": "code",
   "execution_count": null,
   "id": "fd680fb4",
   "metadata": {},
   "outputs": [],
   "source": [
    "compute expected number of giant berries"
   ]
  },
  {
   "cell_type": "markdown",
   "id": "c2958b47",
   "metadata": {
    "editable": false
   },
   "source": [
    "#### B. Do we have a large enough sample to do a chi-square test? Explain"
   ]
  },
  {
   "cell_type": "markdown",
   "id": "e362d657",
   "metadata": {
    "slideshow": {
     "slide_type": "subslide"
    }
   },
   "source": [
    "B. Type your answer here"
   ]
  },
  {
   "cell_type": "markdown",
   "id": "97b9096e",
   "metadata": {
    "editable": false
   },
   "source": [
    "#### C. What will be the degrees of freedom of the chi-squared statistic?"
   ]
  },
  {
   "cell_type": "markdown",
   "id": "c72086f7",
   "metadata": {},
   "source": [
    "C. Type your answer here"
   ]
  },
  {
   "cell_type": "markdown",
   "id": "42d4d5e3",
   "metadata": {
    "editable": false
   },
   "source": [
    "In our sample of 200 berries we saw:\n",
    "\n",
    "Small | Medium | Large | Giant\n",
    "--- | --- |  --- | ---  \n",
    "50 | 50 | 90  | 10\n",
    "\n",
    "#### D. Calculate chi-square (the test statistic)"
   ]
  },
  {
   "cell_type": "code",
   "execution_count": null,
   "id": "bb78c4c3",
   "metadata": {},
   "outputs": [],
   "source": [
    "Calculate chi-square here"
   ]
  },
  {
   "cell_type": "markdown",
   "id": "42656fa0",
   "metadata": {
    "editable": false
   },
   "source": [
    "#### E. Calculate the p-value"
   ]
  },
  {
   "cell_type": "code",
   "execution_count": null,
   "id": "43321ed3",
   "metadata": {},
   "outputs": [],
   "source": [
    "Calculate the p-value here"
   ]
  },
  {
   "cell_type": "markdown",
   "id": "3543b6c1",
   "metadata": {
    "editable": false
   },
   "source": [
    "#### F. Based on the p-value calculated in part (e), what is the conclusion of the hypothesis test? Interpret your conclusion in this context."
   ]
  },
  {
   "cell_type": "markdown",
   "id": "f0cd56db",
   "metadata": {},
   "source": [
    "Type your conclusion here"
   ]
  }
 ],
 "metadata": {
  "kernelspec": {
   "display_name": "R",
   "language": "R",
   "name": "ir"
  },
  "language_info": {
   "codemirror_mode": "r",
   "file_extension": ".r",
   "mimetype": "text/x-r-source",
   "name": "R",
   "pygments_lexer": "r",
   "version": "4.1.2"
  }
 },
 "nbformat": 4,
 "nbformat_minor": 5
}
